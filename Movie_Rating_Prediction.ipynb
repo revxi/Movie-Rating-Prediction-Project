{
 "cells": [
  {
   "cell_type": "markdown",
   "id": "bcdcf20a",
   "metadata": {},
   "source": [
    "# 🎬 Movie Rating Prediction with Python"
   ]
  },
  {
   "cell_type": "markdown",
   "id": "a9914912",
   "metadata": {},
   "source": [
    "This notebook demonstrates a regression-based approach to predict IMDb ratings of Indian movies using features such as genre, director, runtime, votes, and release year.\n",
    "Dataset Source: [Kaggle - IMDb Indian Movies](https://www.kaggle.com/datasets/adrianmcmahon/imdb-india-movies)"
   ]
  },
  {
   "cell_type": "code",
   "execution_count": null,
   "id": "bc27eb74",
   "metadata": {},
   "outputs": [],
   "source": [
    "import pandas as pd\n",
    "import numpy as np\n",
    "import matplotlib.pyplot as plt\n",
    "import seaborn as sns\n",
    "from sklearn.model_selection import train_test_split\n",
    "from sklearn.linear_model import LinearRegression\n",
    "from sklearn.ensemble import RandomForestRegressor\n",
    "from xgboost import XGBRegressor\n",
    "from sklearn.metrics import mean_absolute_error, mean_squared_error, r2_score\n",
    "import warnings\n",
    "warnings.filterwarnings('ignore')"
   ]
  },
  {
   "cell_type": "code",
   "execution_count": null,
   "id": "54f5a24d",
   "metadata": {},
   "outputs": [],
   "source": [
    "# Load the dataset\n",
    "df = pd.read_csv('data/IMDb_Indian_Movies.csv')\n",
    "df.head()"
   ]
  },
  {
   "cell_type": "markdown",
   "id": "5a11b4e1",
   "metadata": {},
   "source": [
    "## 🔍 Data Exploration"
   ]
  },
  {
   "cell_type": "code",
   "execution_count": null,
   "id": "d68e98af",
   "metadata": {},
   "outputs": [],
   "source": [
    "df.info()\n",
    "df.describe()\n",
    "df.isnull().sum()"
   ]
  },
  {
   "cell_type": "markdown",
   "id": "785df079",
   "metadata": {},
   "source": [
    "## 🧹 Data Preprocessing"
   ]
  },
  {
   "cell_type": "code",
   "execution_count": null,
   "id": "3addbf0f",
   "metadata": {},
   "outputs": [],
   "source": [
    "# Drop unnecessary columns and handle missing values\n",
    "df.drop(columns=['Poster_Link', 'Overview'], inplace=True, errors='ignore')\n",
    "df.dropna(inplace=True)\n",
    "\n",
    "# Convert categorical features\n",
    "df = pd.get_dummies(df, columns=['Genre', 'Certificate'], drop_first=True)\n",
    "\n",
    "# Convert votes to numeric if needed\n",
    "df['Votes'] = df['Votes'].str.replace(',', '').astype(float)\n",
    "\n",
    "# Extract year if in date format\n",
    "df['Year'] = pd.to_datetime(df['Release Date'], errors='coerce').dt.year\n",
    "df.drop(columns=['Release Date'], inplace=True, errors='ignore')\n",
    "df.dropna(inplace=True)"
   ]
  },
  {
   "cell_type": "markdown",
   "id": "7c3b284f",
   "metadata": {},
   "source": [
    "## 🧪 Train-Test Split"
   ]
  },
  {
   "cell_type": "code",
   "execution_count": null,
   "id": "395c2cbc",
   "metadata": {},
   "outputs": [],
   "source": [
    "X = df.drop('Rating', axis=1)\n",
    "y = df['Rating']\n",
    "X_train, X_test, y_train, y_test = train_test_split(X, y, test_size=0.2, random_state=42)"
   ]
  },
  {
   "cell_type": "markdown",
   "id": "d5ad4058",
   "metadata": {},
   "source": [
    "## 🤖 Model Training & Evaluation"
   ]
  },
  {
   "cell_type": "code",
   "execution_count": null,
   "id": "a357f921",
   "metadata": {},
   "outputs": [],
   "source": [
    "lr = LinearRegression()\n",
    "lr.fit(X_train, y_train)\n",
    "y_pred_lr = lr.predict(X_test)\n",
    "print(\"Linear Regression R2 Score:\", r2_score(y_test, y_pred_lr))"
   ]
  },
  {
   "cell_type": "code",
   "execution_count": null,
   "id": "c252f31a",
   "metadata": {},
   "outputs": [],
   "source": [
    "rf = RandomForestRegressor()\n",
    "rf.fit(X_train, y_train)\n",
    "y_pred_rf = rf.predict(X_test)\n",
    "print(\"Random Forest R2 Score:\", r2_score(y_test, y_pred_rf))"
   ]
  },
  {
   "cell_type": "code",
   "execution_count": null,
   "id": "4c8313d6",
   "metadata": {},
   "outputs": [],
   "source": [
    "xgb = XGBRegressor()\n",
    "xgb.fit(X_train, y_train)\n",
    "y_pred_xgb = xgb.predict(X_test)\n",
    "print(\"XGBoost R2 Score:\", r2_score(y_test, y_pred_xgb))"
   ]
  },
  {
   "cell_type": "markdown",
   "id": "af43ff46",
   "metadata": {},
   "source": [
    "## 📊 Evaluation Metrics"
   ]
  },
  {
   "cell_type": "code",
   "execution_count": null,
   "id": "9bf406c7",
   "metadata": {},
   "outputs": [],
   "source": [
    "def evaluate(y_true, y_pred, model_name):\n",
    "    print(f\"{model_name} MAE: {mean_absolute_error(y_true, y_pred):.2f}\")\n",
    "    print(f\"{model_name} RMSE: {mean_squared_error(y_true, y_pred, squared=False):.2f}\")\n",
    "    print(f\"{model_name} R2 Score: {r2_score(y_true, y_pred):.2f}\")\n",
    "\n",
    "evaluate(y_test, y_pred_lr, \"Linear Regression\")\n",
    "evaluate(y_test, y_pred_rf, \"Random Forest\")\n",
    "evaluate(y_test, y_pred_xgb, \"XGBoost\")"
   ]
  },
  {
   "cell_type": "markdown",
   "id": "f37f25f1",
   "metadata": {},
   "source": [
    "## ✅ Conclusion\n",
    "\n",
    "We evaluated three regression models. XGBoost typically performs best in predicting IMDb ratings due to its handling of non-linearity and feature importance. Further improvements can be made with hyperparameter tuning and cross-validation."
   ]
  }
 ],
 "metadata": {},
 "nbformat": 4,
 "nbformat_minor": 5
}
